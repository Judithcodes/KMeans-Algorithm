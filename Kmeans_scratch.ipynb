{
 "cells": [
  {
   "cell_type": "markdown",
   "metadata": {},
   "source": [
    "## Kmeans Algorithm Implementation from scratch"
   ]
  },
  {
   "cell_type": "code",
   "execution_count": 21,
   "metadata": {
    "collapsed": true
   },
   "outputs": [],
   "source": [
    "from matplotlib import pyplot as pl\n",
    "import numpy as np\n",
    "import pandas as pd\n",
    "%matplotlib inline"
   ]
  },
  {
   "cell_type": "markdown",
   "metadata": {},
   "source": [
    "This class is implementation of the KMeans algorithm. \n",
    "This algorithm first computes 'n' random centroids and then all the points nearest to each respective centroids \n",
    "are grouped under same cluster.\n",
    "Then a new centroid is computed by setting the average value of all the points falling in that particular cluster.\n",
    "The centroid updation is done until the new centroids are not distant apart.\n"
   ]
  },
  {
   "cell_type": "code",
   "execution_count": 100,
   "metadata": {
    "collapsed": true
   },
   "outputs": [],
   "source": [
    "class Kmeans(object):\n",
    "    \n",
    "    def __init__(self,n_clusters=3,tolerance=0.0001,max_iterations=500):\n",
    "        '''\n",
    "            We have set the tolerance here so that the centroid updation is made only till the distance change %\n",
    "            between old and updated centroid is greater than the tolerance value.\n",
    "        '''\n",
    "        self.k=n_clusters # number of distinct classes\n",
    "        self.tolerance=tolerance\n",
    "        self.max_iterations=max_iterations\n",
    "    \n",
    "    def fit(self,data):\n",
    "        \n",
    "        self.centroids={}\n",
    "        \n",
    "        #initialising centroids\n",
    "        for i in xrange(self.k):\n",
    "            self.centroids[i] = data[i]\n",
    "       \n",
    "        \n",
    "        for j in xrange(self.max_iterations):\n",
    "            \n",
    "            self.classes={} #This dictionary maintains each point into its respective class after distance calculation.\n",
    "            \n",
    "            for i in xrange(self.k):\n",
    "                self.classes[i]=[] #initialising 'K' classes.\n",
    "            \n",
    "            \n",
    "       \n",
    "            for features in data:\n",
    "                distance=[np.linalg.norm(features - self.centroids[centroid]) for centroid in self.centroids]\n",
    "                cluster=distance.index(min(distance))\n",
    "                self.classes[cluster].append(features)\n",
    "            \n",
    "            original_centroids=dict(self.centroids) #maintaining a list of original centroids\n",
    "            \n",
    "            #updating the centroid value\n",
    "            for clusters in self.classes:\n",
    "                self.centroids[clusters]=np.average(self.classes[clusters],axis=0) \n",
    "            \n",
    "            #A boolean value to maintain check on terminal condition\n",
    "            isOptimal=True\n",
    "            \n",
    "            \n",
    "            for centroid in self.centroids:\n",
    "                    original_centroid=original_centroids[centroid]\n",
    "                    current_centroid=self.centroids[centroid]\n",
    "                    \n",
    "                    if np.sum((current_centroid-original_centroid)/original_centroid*100)>self.tolerance:\n",
    "                        isOptimal=False\n",
    "                \n",
    "            if isOptimal:\n",
    "                break\n",
    "                \n",
    "\n",
    "    #Function for plotting the clustered data   \n",
    "    def Plot_clusters(self):\n",
    "        \n",
    "        colors=10*['r','g','Y','c','b']\n",
    "        for centroid in self.centroids:\n",
    "            pl.scatter(self.centroids[centroid][0],self.centroids[centroid][1],s=130,marker='o')\n",
    "    \n",
    "        for classification in self.classes:\n",
    "            color=colors[classification]\n",
    "            for features in self.classes[classification]:\n",
    "                pl.scatter(features[0],features[1],color=color,s=30)\n",
    "    \n",
    "    pl.show()\n"
   ]
  },
  {
   "cell_type": "code",
   "execution_count": 101,
   "metadata": {
    "collapsed": true
   },
   "outputs": [],
   "source": [
    "def main():\n",
    "    #loading the normalised data\n",
    "    df=pd.read_csv('normal_data.csv')\n",
    "    X=df.values    \n",
    "    \n",
    "    km=Kmeans(n_clusters=3)\n",
    "    km.fit(X)\n",
    "    km.Plot_clusters()\n",
    "    "
   ]
  },
  {
   "cell_type": "code",
   "execution_count": 102,
   "metadata": {},
   "outputs": [
    {
     "data": {
      "image/png": "[encoded data removed]",
      "text/plain": [
       "<matplotlib.figure.Figure at 0x10ffe33d0>"
      ]
     },
     "metadata": {},
     "output_type": "display_data"
    }
   ],
   "source": [
    "if __name__==\"__main__\":\n",
    "    main()"
   ]
  },
  {
   "cell_type": "code",
   "execution_count": null,
   "metadata": {
    "collapsed": true
   },
   "outputs": [],
   "source": []
  },
  {
   "cell_type": "code",
   "execution_count": null,
   "metadata": {
    "collapsed": true
   },
   "outputs": [],
   "source": []
  }
 ],
 "metadata": {
  "kernelspec": {
   "display_name": "Python 2",
   "language": "python",
   "name": "python2"
  },
  "language_info": {
   "codemirror_mode": {
    "name": "ipython",
    "version": 2
   },
   "file_extension": ".py",
   "mimetype": "text/x-python",
   "name": "python",
   "nbconvert_exporter": "python",
   "pygments_lexer": "ipython2",
   "version": "2.7.13"
  }
 },
 "nbformat": 4,
 "nbformat_minor": 2
}
